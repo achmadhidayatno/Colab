{
  "nbformat": 4,
  "nbformat_minor": 0,
  "metadata": {
    "colab": {
      "name": "Belajar_numpy.ipynb",
      "provenance": [],
      "authorship_tag": "ABX9TyNbJEfJI/Ba5VLIUuNCrVUL",
      "include_colab_link": true
    },
    "kernelspec": {
      "name": "python3",
      "display_name": "Python 3"
    }
  },
  "cells": [
    {
      "cell_type": "markdown",
      "metadata": {
        "id": "view-in-github",
        "colab_type": "text"
      },
      "source": [
        "<a href=\"https://colab.research.google.com/github/achmadhidayatno/Colab/blob/master/Belajar_numpy.ipynb\" target=\"_parent\"><img src=\"https://colab.research.google.com/assets/colab-badge.svg\" alt=\"Open In Colab\"/></a>"
      ]
    },
    {
      "cell_type": "code",
      "metadata": {
        "id": "tIHVXOfLPTz_",
        "colab_type": "code",
        "colab": {}
      },
      "source": [
        "a=np.matrix('1,2;3,4')\n",
        "b=np.matrix('1,2;3,4')\n",
        "print('Matrik A =',a)\n",
        "print('Matrik B =',b)\n",
        "print('Maka hasil kali AxB adalah', a*b)"
      ],
      "execution_count": 0,
      "outputs": []
    }
  ]
}